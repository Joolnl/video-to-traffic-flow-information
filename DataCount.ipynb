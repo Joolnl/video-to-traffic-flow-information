{
  "nbformat": 4,
  "nbformat_minor": 0,
  "metadata": {
    "colab": {
      "name": "DataCount.ipynb",
      "provenance": [],
      "collapsed_sections": [],
      "toc_visible": true,
      "include_colab_link": true
    },
    "kernelspec": {
      "name": "python3",
      "display_name": "Python 3"
    },
    "accelerator": "GPU"
  },
  "cells": [
    {
      "cell_type": "markdown",
      "metadata": {
        "id": "view-in-github",
        "colab_type": "text"
      },
      "source": [
        "<a href=\"https://colab.research.google.com/github/Joolnl/video-to-traffic-flow-information/blob/master/DataCount.ipynb\" target=\"_parent\"><img src=\"https://colab.research.google.com/assets/colab-badge.svg\" alt=\"Open In Colab\"/></a>"
      ]
    },
    {
      "cell_type": "code",
      "metadata": {
        "id": "vNC7aJYdAt-V",
        "colab_type": "code",
        "colab": {}
      },
      "source": [
        "import os\n",
        "from os.path import exists, basename, splitext\n",
        "import sys"
      ],
      "execution_count": 0,
      "outputs": []
    },
    {
      "cell_type": "code",
      "metadata": {
        "id": "hBT6yew5UnIO",
        "colab_type": "code",
        "colab": {}
      },
      "source": [
        "!rm -rf video-to-traffic-flow-information"
      ],
      "execution_count": 0,
      "outputs": []
    },
    {
      "cell_type": "code",
      "metadata": {
        "id": "7um89aKtUFKy",
        "colab_type": "code",
        "colab": {}
      },
      "source": [
        "git_repo_url = 'https://github.com/Joolnl/video-to-traffic-flow-information.git'\n",
        "project_name = splitext(basename(git_repo_url))[0]"
      ],
      "execution_count": 0,
      "outputs": []
    },
    {
      "cell_type": "code",
      "metadata": {
        "id": "GB_MpzGZUH6t",
        "colab_type": "code",
        "colab": {}
      },
      "source": [
        "if not exists(project_name):\n",
        "  !git clone -q $git_repo_url\n",
        "  !cd $project_name && pip install -q -r requirements.txt\n",
        "else:\n",
        "  !cd $project_name && git pull"
      ],
      "execution_count": 0,
      "outputs": []
    },
    {
      "cell_type": "code",
      "metadata": {
        "id": "xLZnB_l4VRtu",
        "colab_type": "code",
        "colab": {
          "base_uri": "https://localhost:8080/",
          "height": 34
        },
        "outputId": "90d641e4-b55f-4766-87ee-6ce177bc4e34"
      },
      "source": [
        "%cd $project_name"
      ],
      "execution_count": 37,
      "outputs": [
        {
          "output_type": "stream",
          "text": [
            "/content/video-to-traffic-flow-information\n"
          ],
          "name": "stdout"
        }
      ]
    },
    {
      "cell_type": "code",
      "metadata": {
        "id": "jJzNSsZ6VRbK",
        "colab_type": "code",
        "colab": {}
      },
      "source": [
        "%cd /content"
      ],
      "execution_count": 0,
      "outputs": []
    },
    {
      "cell_type": "code",
      "metadata": {
        "id": "Az4nZ-uLR7IQ",
        "colab_type": "code",
        "colab": {}
      },
      "source": [
        "sys.path.append(project_name)\n",
        "\n",
        "if not exists('yolov3.weights'):\n",
        "  !wget -q https://pjreddie.com/media/files/yolov3.weights"
      ],
      "execution_count": 0,
      "outputs": []
    },
    {
      "cell_type": "code",
      "metadata": {
        "id": "blzDeHPAtIv1",
        "colab_type": "code",
        "outputId": "3414ef77-6abe-41e5-96f4-442166f1f32c",
        "colab": {
          "base_uri": "https://localhost:8080/",
          "height": 462
        }
      },
      "source": [
        "!python detector_sort.py -i 15s.mp4 --no-show --cuda"
      ],
      "execution_count": 41,
      "outputs": [
        {
          "output_type": "stream",
          "text": [
            "Loading network...\n",
            "Network loaded\n",
            "Detecting...\n",
            "/usr/local/lib/python3.6/dist-packages/torch/nn/functional.py:2506: UserWarning: Default upsampling behavior when mode=bilinear is changed to align_corners=False since 0.4.0. Please specify align_corners=True if the old behavior is desired. See the documentation of nn.Upsample for details.\n",
            "  \"See the documentation of nn.Upsample for details.\".format(mode))\n",
            "/usr/local/lib/python3.6/dist-packages/torch/nn/functional.py:2506: UserWarning: Default upsampling behavior when mode=bilinear is changed to align_corners=False since 0.4.0. Please specify align_corners=True if the old behavior is desired. See the documentation of nn.Upsample for details.\n",
            "  \"See the documentation of nn.Upsample for details.\".format(mode))\n",
            "Frames processed: 6.83%\n",
            "Frames processed: 13.67%\n",
            "Frames processed: 20.50%\n",
            "Frames processed: 27.33%\n",
            "Frames processed: 34.17%\n",
            "Frames processed: 41.00%\n",
            "Frames processed: 47.84%\n",
            "Frames processed: 54.67%\n",
            "Frames processed: 61.50%\n",
            "Frames processed: 68.34%\n",
            "Frames processed: 75.17%\n",
            "Frames processed: 82.00%\n",
            "Frames processed: 88.84%\n",
            "Frames processed: 95.67%\n",
            "Detection finished in 0:00:32.959822\n",
            "Total frames: 439\n",
            "Detected video saved to output/det_15s.mp4\n",
            "Detected meta data saved as output/det_15s.csv\n"
          ],
          "name": "stdout"
        }
      ]
    },
    {
      "cell_type": "code",
      "metadata": {
        "id": "ddIPDbb8RSWI",
        "colab_type": "code",
        "colab": {
          "base_uri": "https://localhost:8080/",
          "height": 122
        },
        "outputId": "15efbefb-c023-4d3c-89df-593f1a6d8680"
      },
      "source": [
        "!python postprocess_output.py -i output/det_15s.csv"
      ],
      "execution_count": 42,
      "outputs": [
        {
          "output_type": "stream",
          "text": [
            "Namespace(angle_thresh=0, gap_thresh=0, input='output/det_15s.csv', move_thresh=10, no_plot=False, outdir='output')\n",
            "Found 0 breaks to be patched\n",
            "Detected 18 static objects\n",
            "Drawing 29 lines to image\n",
            "Output written to output/results_det_15s.csv\n"
          ],
          "name": "stdout"
        }
      ]
    }
  ]
}