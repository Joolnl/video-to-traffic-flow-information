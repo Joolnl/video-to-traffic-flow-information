{
  "nbformat": 4,
  "nbformat_minor": 0,
  "metadata": {
    "colab": {
      "name": "DataCount.ipynb",
      "provenance": [],
      "collapsed_sections": [],
      "toc_visible": true,
      "authorship_tag": "ABX9TyMH8CUwuEdFAd1d2t6OhUzr",
      "include_colab_link": true
    },
    "kernelspec": {
      "name": "python3",
      "display_name": "Python 3"
    },
    "accelerator": "GPU"
  },
  "cells": [
    {
      "cell_type": "markdown",
      "metadata": {
        "id": "view-in-github",
        "colab_type": "text"
      },
      "source": [
        "<a href=\"https://colab.research.google.com/github/Joolnl/video-to-traffic-flow-information/blob/master/DataCount.ipynb\" target=\"_parent\"><img src=\"https://colab.research.google.com/assets/colab-badge.svg\" alt=\"Open In Colab\"/></a>"
      ]
    },
    {
      "cell_type": "code",
      "metadata": {
        "id": "vNC7aJYdAt-V",
        "colab_type": "code",
        "outputId": "b9d5c11a-1157-422b-8019-cfd687f40bb2",
        "colab": {
          "base_uri": "https://localhost:8080/",
          "height": 34
        }
      },
      "source": [
        "git_repo_url = 'https://github.com/Joolnl/video-to-traffic-flow-information.git'\n",
        "project_name = splitext(basename(git_repo_url))[0]\n",
        "\n",
        "! rm -rf $project_name\n",
        "\n",
        "import os\n",
        "from os.path import exists, basename, splitext\n",
        "\n",
        "if not exists(project_name):\n",
        "  !git clone -q $git_repo_url\n",
        "  !cd $project_name && pip install -q -r requirements.txt\n",
        "\n",
        "import sys\n",
        "sys.path.append(project_name)\n",
        "\n",
        "if not exists('yolov3.weights'):\n",
        "  !cd $project_name && wget -q https://pjreddie.com/media/files/yolov3.weights"
      ],
      "execution_count": 25,
      "outputs": [
        {
          "output_type": "stream",
          "text": [
            "ln: target 'cfg/' is not a directory: No such file or directory\n"
          ],
          "name": "stdout"
        }
      ]
    },
    {
      "cell_type": "code",
      "metadata": {
        "id": "blzDeHPAtIv1",
        "colab_type": "code",
        "outputId": "55a5dc4f-3829-4e32-be89-545aea07d08f",
        "colab": {
          "base_uri": "https://localhost:8080/",
          "height": 204
        }
      },
      "source": [
        "!python ./video-to-traffic-flow-information/detector_sort.py -i ./video-to-traffic-flow-information/15s.mp4 "
      ],
      "execution_count": 23,
      "outputs": [
        {
          "output_type": "stream",
          "text": [
            "Loading network...\n",
            "Traceback (most recent call last):\n",
            "  File \"./video-to-traffic-flow-information/detector_sort.py\", line 238, in <module>\n",
            "    main()\n",
            "  File \"./video-to-traffic-flow-information/detector_sort.py\", line 226, in main\n",
            "    model = Darknet(\"cfg/yolov3.cfg\")\n",
            "  File \"/content/video-to-traffic-flow-information/darknet.py\", line 177, in __init__\n",
            "    self.blocks = parse_cfg(cfg)\n",
            "  File \"/content/video-to-traffic-flow-information/darknet.py\", line 10, in parse_cfg\n",
            "    with open(cfg) as f:\n",
            "FileNotFoundError: [Errno 2] No such file or directory: 'cfg/yolov3.cfg'\n"
          ],
          "name": "stdout"
        }
      ]
    }
  ]
}