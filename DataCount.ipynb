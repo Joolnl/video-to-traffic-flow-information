{
  "nbformat": 4,
  "nbformat_minor": 0,
  "metadata": {
    "colab": {
      "name": "DataCount.ipynb",
      "provenance": [],
      "collapsed_sections": [],
      "toc_visible": true,
      "include_colab_link": true
    },
    "kernelspec": {
      "name": "python3",
      "display_name": "Python 3"
    },
    "accelerator": "GPU"
  },
  "cells": [
    {
      "cell_type": "markdown",
      "metadata": {
        "id": "view-in-github",
        "colab_type": "text"
      },
      "source": [
        "<a href=\"https://colab.research.google.com/github/Joolnl/video-to-traffic-flow-information/blob/master/DataCount.ipynb\" target=\"_parent\"><img src=\"https://colab.research.google.com/assets/colab-badge.svg\" alt=\"Open In Colab\"/></a>"
      ]
    },
    {
      "cell_type": "code",
      "metadata": {
        "id": "vNC7aJYdAt-V",
        "colab_type": "code",
        "colab": {}
      },
      "source": [
        "import os\n",
        "from os.path import exists, basename, splitext\n",
        "import sys"
      ],
      "execution_count": 0,
      "outputs": []
    },
    {
      "cell_type": "code",
      "metadata": {
        "id": "hBT6yew5UnIO",
        "colab_type": "code",
        "colab": {}
      },
      "source": [
        "!rm -rf video-to-traffic-flow-information"
      ],
      "execution_count": 0,
      "outputs": []
    },
    {
      "cell_type": "code",
      "metadata": {
        "id": "7um89aKtUFKy",
        "colab_type": "code",
        "colab": {}
      },
      "source": [
        "git_repo_url = 'https://github.com/Joolnl/video-to-traffic-flow-information.git'\n",
        "project_name = splitext(basename(git_repo_url))[0]"
      ],
      "execution_count": 0,
      "outputs": []
    },
    {
      "cell_type": "code",
      "metadata": {
        "id": "GB_MpzGZUH6t",
        "colab_type": "code",
        "colab": {
          "base_uri": "https://localhost:8080/",
          "height": 68
        },
        "outputId": "a38c35af-663a-4927-e66e-bc2e33eb6e24"
      },
      "source": [
        "if not exists(project_name):\n",
        "  !git clone -q $git_repo_url\n",
        "  !cd $project_name && pip install -q -r requirements.txt\n",
        "  !pip3 install shapely\n",
        "  !cd $project_name && git checkout roundabout\n",
        "else:\n",
        "  !cd $project_name && git pull"
      ],
      "execution_count": 5,
      "outputs": [
        {
          "output_type": "stream",
          "text": [
            "Requirement already satisfied: shapely in /usr/local/lib/python3.6/dist-packages (1.7.0)\n",
            "Branch 'roundabout' set up to track remote branch 'roundabout' from 'origin'.\n",
            "Switched to a new branch 'roundabout'\n"
          ],
          "name": "stdout"
        }
      ]
    },
    {
      "cell_type": "code",
      "metadata": {
        "id": "xLZnB_l4VRtu",
        "colab_type": "code",
        "outputId": "51f74078-9550-463d-9bb4-d054ee4d6666",
        "colab": {
          "base_uri": "https://localhost:8080/",
          "height": 34
        }
      },
      "source": [
        "%cd $project_name"
      ],
      "execution_count": 6,
      "outputs": [
        {
          "output_type": "stream",
          "text": [
            "/content/video-to-traffic-flow-information\n"
          ],
          "name": "stdout"
        }
      ]
    },
    {
      "cell_type": "code",
      "metadata": {
        "id": "jJzNSsZ6VRbK",
        "colab_type": "code",
        "colab": {}
      },
      "source": [
        "%cd /content"
      ],
      "execution_count": 0,
      "outputs": []
    },
    {
      "cell_type": "code",
      "metadata": {
        "id": "Az4nZ-uLR7IQ",
        "colab_type": "code",
        "colab": {}
      },
      "source": [
        "sys.path.append(project_name)\n",
        "\n",
        "if not exists('yolov3.weights'):\n",
        "  !wget -q https://pjreddie.com/media/files/yolov3.weights"
      ],
      "execution_count": 0,
      "outputs": []
    },
    {
      "cell_type": "code",
      "metadata": {
        "id": "blzDeHPAtIv1",
        "colab_type": "code",
        "outputId": "71bbea6e-6a9f-49b6-c300-0f300bbf44d4",
        "colab": {
          "base_uri": "https://localhost:8080/",
          "height": 1000
        }
      },
      "source": [
        "!python detector_sort.py -i roundabout5m.mp4 --no-show --cuda"
      ],
      "execution_count": 9,
      "outputs": [
        {
          "output_type": "stream",
          "text": [
            "Loading network...\n",
            "Network loaded\n",
            "Detecting...\n",
            "/usr/local/lib/python3.6/dist-packages/torch/nn/functional.py:2506: UserWarning: Default upsampling behavior when mode=bilinear is changed to align_corners=False since 0.4.0. Please specify align_corners=True if the old behavior is desired. See the documentation of nn.Upsample for details.\n",
            "  \"See the documentation of nn.Upsample for details.\".format(mode))\n",
            "/usr/local/lib/python3.6/dist-packages/torch/nn/functional.py:2506: UserWarning: Default upsampling behavior when mode=bilinear is changed to align_corners=False since 0.4.0. Please specify align_corners=True if the old behavior is desired. See the documentation of nn.Upsample for details.\n",
            "  \"See the documentation of nn.Upsample for details.\".format(mode))\n",
            "/usr/local/lib/python3.6/dist-packages/torch/nn/functional.py:2506: UserWarning: Default upsampling behavior when mode=bilinear is changed to align_corners=False since 0.4.0. Please specify align_corners=True if the old behavior is desired. See the documentation of nn.Upsample for details.\n",
            "  \"See the documentation of nn.Upsample for details.\".format(mode))\n",
            "Frames processed: 0.32%\n",
            "Frames processed: 0.64%\n",
            "Frames processed: 0.97%\n",
            "Frames processed: 1.29%\n",
            "Frames processed: 1.61%\n",
            "Frames processed: 1.93%\n",
            "Frames processed: 2.25%\n",
            "Frames processed: 2.57%\n",
            "Frames processed: 2.90%\n",
            "Frames processed: 3.22%\n",
            "Frames processed: 3.54%\n",
            "Frames processed: 3.86%\n",
            "Frames processed: 4.18%\n",
            "Frames processed: 4.50%\n",
            "Frames processed: 4.83%\n",
            "Frames processed: 5.15%\n",
            "Frames processed: 5.47%\n",
            "Frames processed: 5.79%\n",
            "Frames processed: 6.11%\n",
            "Frames processed: 6.44%\n",
            "Frames processed: 6.76%\n",
            "Frames processed: 7.08%\n",
            "Frames processed: 7.40%\n",
            "Frames processed: 7.72%\n",
            "Frames processed: 8.04%\n",
            "Frames processed: 8.37%\n",
            "Frames processed: 8.69%\n",
            "Frames processed: 9.01%\n",
            "Frames processed: 9.33%\n",
            "Frames processed: 9.65%\n",
            "Frames processed: 9.97%\n",
            "Frames processed: 10.30%\n",
            "Frames processed: 10.62%\n",
            "Frames processed: 10.94%\n",
            "Frames processed: 11.26%\n",
            "Frames processed: 11.58%\n",
            "Frames processed: 11.90%\n",
            "Frames processed: 12.23%\n",
            "Frames processed: 12.55%\n",
            "Frames processed: 12.87%\n",
            "Frames processed: 13.19%\n",
            "Frames processed: 13.51%\n",
            "Frames processed: 13.84%\n",
            "Frames processed: 14.16%\n",
            "Frames processed: 14.48%\n",
            "Frames processed: 14.80%\n",
            "Frames processed: 15.12%\n",
            "Frames processed: 15.44%\n",
            "Frames processed: 15.77%\n",
            "Frames processed: 16.09%\n",
            "Frames processed: 16.41%\n",
            "Frames processed: 16.73%\n",
            "Frames processed: 17.05%\n",
            "Frames processed: 17.37%\n",
            "Frames processed: 17.70%\n",
            "Frames processed: 18.02%\n",
            "Frames processed: 18.34%\n",
            "Frames processed: 18.66%\n",
            "Frames processed: 18.98%\n",
            "Frames processed: 19.31%\n",
            "Frames processed: 19.63%\n",
            "Frames processed: 19.95%\n",
            "Frames processed: 20.27%\n",
            "Frames processed: 20.59%\n",
            "Frames processed: 20.91%\n",
            "Frames processed: 21.24%\n",
            "Frames processed: 21.56%\n",
            "Frames processed: 21.88%\n",
            "Frames processed: 22.20%\n",
            "Frames processed: 22.52%\n",
            "Frames processed: 22.84%\n",
            "Frames processed: 23.17%\n",
            "Frames processed: 23.49%\n",
            "Frames processed: 23.81%\n",
            "Frames processed: 24.13%\n",
            "Frames processed: 24.45%\n",
            "Frames processed: 24.77%\n",
            "Frames processed: 25.10%\n",
            "Frames processed: 25.42%\n",
            "Frames processed: 25.74%\n",
            "Frames processed: 26.06%\n",
            "Frames processed: 26.38%\n",
            "Frames processed: 26.71%\n",
            "Frames processed: 27.03%\n",
            "Frames processed: 27.35%\n",
            "Frames processed: 27.67%\n",
            "Frames processed: 27.99%\n",
            "Frames processed: 28.31%\n",
            "Frames processed: 28.64%\n",
            "Frames processed: 28.96%\n",
            "Frames processed: 29.28%\n",
            "Frames processed: 29.60%\n",
            "Frames processed: 29.92%\n",
            "Frames processed: 30.24%\n",
            "Frames processed: 30.57%\n",
            "Frames processed: 30.89%\n",
            "Frames processed: 31.21%\n",
            "Frames processed: 31.53%\n",
            "Frames processed: 31.85%\n",
            "Frames processed: 32.18%\n",
            "Frames processed: 32.50%\n",
            "Frames processed: 32.82%\n",
            "Frames processed: 33.14%\n",
            "Frames processed: 33.46%\n",
            "Frames processed: 33.78%\n",
            "Frames processed: 34.11%\n",
            "Frames processed: 34.43%\n",
            "Frames processed: 34.75%\n",
            "Frames processed: 35.07%\n",
            "Frames processed: 35.39%\n",
            "Frames processed: 35.71%\n",
            "Frames processed: 36.04%\n",
            "Frames processed: 36.36%\n",
            "Frames processed: 36.68%\n",
            "Frames processed: 37.00%\n",
            "Frames processed: 37.32%\n",
            "Frames processed: 37.64%\n",
            "Frames processed: 37.97%\n",
            "Frames processed: 38.29%\n",
            "Frames processed: 38.61%\n",
            "Frames processed: 38.93%\n",
            "Frames processed: 39.25%\n",
            "Frames processed: 39.58%\n",
            "Frames processed: 39.90%\n",
            "Frames processed: 40.22%\n",
            "Frames processed: 40.54%\n",
            "Frames processed: 40.86%\n",
            "Frames processed: 41.18%\n",
            "Frames processed: 41.51%\n",
            "Frames processed: 41.83%\n",
            "Frames processed: 42.15%\n",
            "Frames processed: 42.47%\n",
            "Frames processed: 42.79%\n",
            "Frames processed: 43.11%\n",
            "Frames processed: 43.44%\n",
            "Frames processed: 43.76%\n",
            "Frames processed: 44.08%\n",
            "Frames processed: 44.40%\n",
            "Frames processed: 44.72%\n",
            "Frames processed: 45.05%\n",
            "Frames processed: 45.37%\n",
            "Frames processed: 45.69%\n",
            "Frames processed: 46.01%\n",
            "Frames processed: 46.33%\n",
            "Frames processed: 46.65%\n",
            "Frames processed: 46.98%\n",
            "Frames processed: 47.30%\n",
            "Frames processed: 47.62%\n",
            "Frames processed: 47.94%\n",
            "Frames processed: 48.26%\n",
            "Frames processed: 48.58%\n",
            "Frames processed: 48.91%\n",
            "Frames processed: 49.23%\n",
            "Frames processed: 49.55%\n",
            "Frames processed: 49.87%\n",
            "Frames processed: 50.19%\n",
            "Frames processed: 50.51%\n",
            "Frames processed: 50.84%\n",
            "Frames processed: 51.16%\n",
            "Frames processed: 51.48%\n",
            "Frames processed: 51.80%\n",
            "Frames processed: 52.12%\n",
            "Frames processed: 52.45%\n",
            "Frames processed: 52.77%\n",
            "Frames processed: 53.09%\n",
            "Frames processed: 53.41%\n",
            "Frames processed: 53.73%\n",
            "Frames processed: 54.05%\n",
            "Frames processed: 54.38%\n",
            "Frames processed: 54.70%\n",
            "Frames processed: 55.02%\n",
            "Frames processed: 55.34%\n",
            "Frames processed: 55.66%\n",
            "Frames processed: 55.98%\n",
            "Frames processed: 56.31%\n",
            "Frames processed: 56.63%\n",
            "Frames processed: 56.95%\n",
            "Frames processed: 57.27%\n",
            "Frames processed: 57.59%\n",
            "Frames processed: 57.92%\n",
            "Frames processed: 58.24%\n",
            "Frames processed: 58.56%\n",
            "Frames processed: 58.88%\n",
            "Frames processed: 59.20%\n",
            "Frames processed: 59.52%\n",
            "Frames processed: 59.85%\n",
            "Frames processed: 60.17%\n",
            "Frames processed: 60.49%\n",
            "Frames processed: 60.81%\n",
            "Frames processed: 61.13%\n",
            "Frames processed: 61.45%\n",
            "Frames processed: 61.78%\n",
            "Frames processed: 62.10%\n",
            "Frames processed: 62.42%\n",
            "Frames processed: 62.74%\n",
            "Frames processed: 63.06%\n",
            "Frames processed: 63.38%\n",
            "Frames processed: 63.71%\n",
            "Frames processed: 64.03%\n",
            "Frames processed: 64.35%\n",
            "Frames processed: 64.67%\n",
            "Frames processed: 64.99%\n",
            "Frames processed: 65.32%\n",
            "Frames processed: 65.64%\n",
            "Frames processed: 65.96%\n",
            "Frames processed: 66.28%\n",
            "Frames processed: 66.60%\n",
            "Frames processed: 66.92%\n",
            "Frames processed: 67.25%\n",
            "Frames processed: 67.57%\n",
            "Frames processed: 67.89%\n",
            "Frames processed: 68.21%\n",
            "Frames processed: 68.53%\n",
            "Frames processed: 68.85%\n",
            "Frames processed: 69.18%\n",
            "Frames processed: 69.50%\n",
            "Frames processed: 69.82%\n",
            "Frames processed: 70.14%\n",
            "Frames processed: 70.46%\n",
            "Frames processed: 70.79%\n",
            "Frames processed: 71.11%\n",
            "Frames processed: 71.43%\n",
            "Frames processed: 71.75%\n",
            "Frames processed: 72.07%\n",
            "Frames processed: 72.39%\n",
            "Frames processed: 72.72%\n",
            "Frames processed: 73.04%\n",
            "Frames processed: 73.36%\n",
            "Frames processed: 73.68%\n",
            "Frames processed: 74.00%\n",
            "Frames processed: 74.32%\n",
            "Frames processed: 74.65%\n",
            "Frames processed: 74.97%\n",
            "Frames processed: 75.29%\n",
            "Frames processed: 75.61%\n",
            "Frames processed: 75.93%\n",
            "Frames processed: 76.25%\n",
            "Frames processed: 76.58%\n",
            "Frames processed: 76.90%\n",
            "Frames processed: 77.22%\n",
            "Frames processed: 77.54%\n",
            "Frames processed: 77.86%\n",
            "Frames processed: 78.19%\n",
            "Frames processed: 78.51%\n",
            "Frames processed: 78.83%\n",
            "Frames processed: 79.15%\n",
            "Frames processed: 79.47%\n",
            "Frames processed: 79.79%\n",
            "Frames processed: 80.12%\n",
            "Frames processed: 80.44%\n",
            "Frames processed: 80.76%\n",
            "Frames processed: 81.08%\n",
            "Frames processed: 81.40%\n",
            "Frames processed: 81.72%\n",
            "Frames processed: 82.05%\n",
            "Frames processed: 82.37%\n",
            "Frames processed: 82.69%\n",
            "Frames processed: 83.01%\n",
            "Frames processed: 83.33%\n",
            "Frames processed: 83.66%\n",
            "Frames processed: 83.98%\n",
            "Frames processed: 84.30%\n",
            "Frames processed: 84.62%\n",
            "Frames processed: 84.94%\n",
            "Frames processed: 85.26%\n",
            "Frames processed: 85.59%\n",
            "Frames processed: 85.91%\n",
            "Frames processed: 86.23%\n",
            "Frames processed: 86.55%\n",
            "Frames processed: 86.87%\n",
            "Frames processed: 87.19%\n",
            "Frames processed: 87.52%\n",
            "Frames processed: 87.84%\n",
            "Frames processed: 88.16%\n",
            "Frames processed: 88.48%\n",
            "Frames processed: 88.80%\n",
            "Frames processed: 89.12%\n",
            "Frames processed: 89.45%\n",
            "Frames processed: 89.77%\n",
            "Frames processed: 90.09%\n",
            "Frames processed: 90.41%\n",
            "Frames processed: 90.73%\n",
            "Frames processed: 91.06%\n",
            "Frames processed: 91.38%\n",
            "Frames processed: 91.70%\n",
            "Frames processed: 92.02%\n",
            "Frames processed: 92.34%\n",
            "Frames processed: 92.66%\n",
            "Frames processed: 92.99%\n",
            "Frames processed: 93.31%\n",
            "Frames processed: 93.63%\n",
            "Frames processed: 93.95%\n",
            "Frames processed: 94.27%\n",
            "Frames processed: 94.59%\n",
            "Frames processed: 94.92%\n",
            "Frames processed: 95.24%\n",
            "Frames processed: 95.56%\n",
            "Frames processed: 95.88%\n",
            "Frames processed: 96.20%\n",
            "Frames processed: 96.53%\n",
            "Frames processed: 96.85%\n",
            "Frames processed: 97.17%\n",
            "Frames processed: 97.49%\n",
            "Frames processed: 97.81%\n",
            "Frames processed: 98.13%\n",
            "Frames processed: 98.46%\n",
            "Frames processed: 98.78%\n",
            "Frames processed: 99.10%\n",
            "Frames processed: 99.42%\n",
            "Frames processed: 99.74%\n",
            "Detection finished in 0:25:27.300572\n",
            "Total frames: 9325\n",
            "Detected video saved to output/det_roundabout5m.mp4\n",
            "Detected meta data saved as output/det_roundabout5m.csv\n"
          ],
          "name": "stdout"
        }
      ]
    },
    {
      "cell_type": "code",
      "metadata": {
        "id": "m3eTdvvUVrRY",
        "colab_type": "code",
        "colab": {}
      },
      "source": [
        "!python post_video.py"
      ],
      "execution_count": 0,
      "outputs": []
    },
    {
      "cell_type": "code",
      "metadata": {
        "id": "ddIPDbb8RSWI",
        "colab_type": "code",
        "outputId": "15efbefb-c023-4d3c-89df-593f1a6d8680",
        "colab": {
          "base_uri": "https://localhost:8080/",
          "height": 122
        }
      },
      "source": [
        "!python postprocess_output.py -i output/det_15s.csv"
      ],
      "execution_count": 0,
      "outputs": [
        {
          "output_type": "stream",
          "text": [
            "Namespace(angle_thresh=0, gap_thresh=0, input='output/det_15s.csv', move_thresh=10, no_plot=False, outdir='output')\n",
            "Found 0 breaks to be patched\n",
            "Detected 18 static objects\n",
            "Drawing 29 lines to image\n",
            "Output written to output/results_det_15s.csv\n"
          ],
          "name": "stdout"
        }
      ]
    }
  ]
}