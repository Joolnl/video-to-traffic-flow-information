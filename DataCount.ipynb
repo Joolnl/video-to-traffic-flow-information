{
  "nbformat": 4,
  "nbformat_minor": 0,
  "metadata": {
    "colab": {
      "name": "DataCount.ipynb",
      "provenance": [],
      "collapsed_sections": [],
      "toc_visible": true,
      "authorship_tag": "ABX9TyOjdBks7wHymvRS+0GtxSo+",
      "include_colab_link": true
    },
    "kernelspec": {
      "name": "python3",
      "display_name": "Python 3"
    },
    "accelerator": "GPU"
  },
  "cells": [
    {
      "cell_type": "markdown",
      "metadata": {
        "id": "view-in-github",
        "colab_type": "text"
      },
      "source": [
        "<a href=\"https://colab.research.google.com/github/Joolnl/video-to-traffic-flow-information/blob/master/DataCount.ipynb\" target=\"_parent\"><img src=\"https://colab.research.google.com/assets/colab-badge.svg\" alt=\"Open In Colab\"/></a>"
      ]
    },
    {
      "cell_type": "code",
      "metadata": {
        "id": "vNC7aJYdAt-V",
        "colab_type": "code",
        "outputId": "08d887bc-a314-41ed-f40f-5644182e86fe",
        "colab": {
          "base_uri": "https://localhost:8080/",
          "height": 612
        }
      },
      "source": [
        "! rm -rf video-to-traffic-flow-information\n",
        "\n",
        "import os\n",
        "from os.path import exists, basename, splitext\n",
        "\n",
        "git_repo_url = 'https://github.com/Joolnl/video-to-traffic-flow-information.git'\n",
        "project_name = splitext(basename(git_repo_url))[0]\n",
        "if not exists(project_name):\n",
        "  !git clone -q $git_repo_url\n",
        "  !cd $project_name && pip install -q -r requirements.txt\n",
        "\n",
        "import sys\n",
        "sys.path.append(project_name)\n",
        "\n",
        "if not exists('yolov3.weights'):\n",
        "  !wget -q https://pjreddie.com/media/files/yolov3.weights"
      ],
      "execution_count": 16,
      "outputs": [
        {
          "output_type": "stream",
          "text": [
            "\u001b[K     |████████████████████████████████| 163kB 2.8MB/s \n",
            "\u001b[K     |████████████████████████████████| 440kB 8.7MB/s \n",
            "\u001b[K     |████████████████████████████████| 184kB 14.4MB/s \n",
            "\u001b[K     |████████████████████████████████| 3.3MB 14.9MB/s \n",
            "\u001b[K     |████████████████████████████████| 778kB 38.5MB/s \n",
            "\u001b[K     |████████████████████████████████| 1.0MB 41.4MB/s \n",
            "\u001b[K     |████████████████████████████████| 286kB 51.0MB/s \n",
            "\u001b[K     |████████████████████████████████| 20.2MB 162kB/s \n",
            "\u001b[K     |████████████████████████████████| 13.1MB 246kB/s \n",
            "\u001b[K     |████████████████████████████████| 3.6MB 59.7MB/s \n",
            "\u001b[K     |████████████████████████████████| 20.4MB 159kB/s \n",
            "\u001b[K     |████████████████████████████████| 112kB 67.1MB/s \n",
            "\u001b[K     |████████████████████████████████| 28.7MB 1.4MB/s \n",
            "\u001b[K     |████████████████████████████████| 10.4MB 43.6MB/s \n",
            "\u001b[K     |████████████████████████████████| 102kB 13.5MB/s \n",
            "\u001b[K     |████████████████████████████████| 61kB 9.6MB/s \n",
            "\u001b[K     |████████████████████████████████| 2.1MB 66.1MB/s \n",
            "\u001b[K     |████████████████████████████████| 348kB 58.4MB/s \n",
            "\u001b[K     |████████████████████████████████| 890kB 55.6MB/s \n",
            "\u001b[K     |████████████████████████████████| 71kB 9.7MB/s \n",
            "\u001b[K     |████████████████████████████████| 235kB 65.1MB/s \n",
            "\u001b[K     |████████████████████████████████| 512kB 57.6MB/s \n",
            "\u001b[K     |████████████████████████████████| 6.7MB 46.6MB/s \n",
            "\u001b[K     |████████████████████████████████| 25.2MB 129kB/s \n",
            "\u001b[K     |████████████████████████████████| 215kB 66.2MB/s \n",
            "\u001b[K     |████████████████████████████████| 491kB 66.4MB/s \n",
            "\u001b[?25h  Building wheel for filterpy (setup.py) ... \u001b[?25l\u001b[?25hdone\n",
            "  Building wheel for ipdb (setup.py) ... \u001b[?25l\u001b[?25hdone\n",
            "  Building wheel for olefile (setup.py) ... \u001b[?25l\u001b[?25hdone\n",
            "  Building wheel for tornado (setup.py) ... \u001b[?25l\u001b[?25hdone\n",
            "\u001b[31mERROR: jupyter-console 5.2.0 has requirement prompt-toolkit<2.0.0,>=1.0.0, but you'll have prompt-toolkit 2.0.10 which is incompatible.\u001b[0m\n",
            "\u001b[31mERROR: google-colab 1.0.0 has requirement ipython~=5.5.0, but you'll have ipython 7.8.0 which is incompatible.\u001b[0m\n",
            "\u001b[31mERROR: google-colab 1.0.0 has requirement tornado~=4.5.0, but you'll have tornado 6.0.3 which is incompatible.\u001b[0m\n",
            "\u001b[31mERROR: datascience 0.10.6 has requirement folium==0.2.1, but you'll have folium 0.8.3 which is incompatible.\u001b[0m\n",
            "\u001b[31mERROR: albumentations 0.1.12 has requirement imgaug<0.2.7,>=0.2.5, but you'll have imgaug 0.2.9 which is incompatible.\u001b[0m\n"
          ],
          "name": "stdout"
        }
      ]
    },
    {
      "cell_type": "code",
      "metadata": {
        "id": "blzDeHPAtIv1",
        "colab_type": "code",
        "outputId": "a501aefe-f631-465f-f59b-b6f2d550ce6c",
        "colab": {
          "base_uri": "https://localhost:8080/",
          "height": 204
        }
      },
      "source": [
        "!python ./video-to-traffic-flow-information/detector_sort.py -i ./video-to-traffic-flow-information/15s.mp4 "
      ],
      "execution_count": 18,
      "outputs": [
        {
          "output_type": "stream",
          "text": [
            "Loading network...\n",
            "Traceback (most recent call last):\n",
            "  File \"./video-to-traffic-flow-information/detector_sort.py\", line 238, in <module>\n",
            "    main()\n",
            "  File \"./video-to-traffic-flow-information/detector_sort.py\", line 226, in main\n",
            "    model = Darknet(\"cfg/yolov3.cfg\")\n",
            "  File \"/content/video-to-traffic-flow-information/darknet.py\", line 177, in __init__\n",
            "    self.blocks = parse_cfg(cfg)\n",
            "  File \"/content/video-to-traffic-flow-information/darknet.py\", line 10, in parse_cfg\n",
            "    with open(cfg) as f:\n",
            "FileNotFoundError: [Errno 2] No such file or directory: 'cfg/yolov3.cfg'\n"
          ],
          "name": "stdout"
        }
      ]
    }
  ]
}